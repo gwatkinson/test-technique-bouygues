{
 "cells": [
  {
   "cell_type": "markdown",
   "metadata": {},
   "source": [
    "# Test technique pour le stage data science chez Bouygues Telecom\n",
    "\n",
    "<div style=\"text-align: right;\"><span style=\"font-style: italic; margin-right: 1.5em;\">Gabriel Watkinson</span></div> \n",
    "<hr class=\"solid\">\n",
    "\n",
    "Ce notebook contient le test technique pour le stage de data science chez Bouygues Telecom basée sur des données factices sur la résiliation des clients ayant un abonnement télécom.\n",
    "\n",
    "### Description du test\n",
    "\n",
    "L'objectif est de comprendre et de prédire la résilation des clients. Pour ce faire 4 datasets sont fournis :\n",
    "\n",
    "* resiliation_option : contient les données sur les options des forfaits fixe et mobile des clients\n",
    "* resiliation_client : contient des données clients\n",
    "* resiliation_contrat : contient les caractéristiques des contrats des clients\n",
    "* resiliation_forfait : contient les caractéristiques du forfait mobile du client\n",
    "\n",
    "### Organisation du notebook\n",
    "\n",
    "Le notebook est composé de 3 parties :\n",
    "\n",
    "1. Analyses des données et statistiques descriptives\n",
    "2. Préparation de données\n",
    "3. Modélisation du problème"
   ]
  },
  {
   "cell_type": "markdown",
   "metadata": {},
   "source": [
    "## Analyses des données et statistiques descriptives\n",
    "\n",
    "Dans un premier temps, nous allons analyser les données pour comprendre leur contenu et leur structure en utilisant des statistiques descriptives et des graphiques pour visualiser les distributions des données, ainsi que des problèmes éventuels, tels que les données manquantes par exemple, qu'il faudra pendre en compte lors de la modélisation."
   ]
  },
  {
   "cell_type": "markdown",
   "metadata": {},
   "source": [
    "### EDA automatique avec `pandas_profiling`\n",
    "\n",
    "Afin de découvrir les données, nous allons utiliser `pandas_profiling` qui permet d'explorer les données et de soulever certain problèmes de manière automatique."
   ]
  },
  {
   "cell_type": "code",
   "execution_count": null,
   "metadata": {},
   "outputs": [],
   "source": [
    "import pandas as pd\n",
    "\n",
    "# Chargement des données situées dans le dossier `data/`\n",
    "data_folder = \"./data/\"\n",
    "client = pd.read_csv(data_folder + \"resiliation_client.csv\", sep=\";\")\n",
    "contrat = pd.read_csv(data_folder + \"resiliation_contrat.csv\", sep=\";\")\n",
    "forfait = pd.read_csv(data_folder + \"resiliation_forfait.csv\", sep=\";\")\n",
    "option = pd.read_csv(data_folder + \"resiliation_option.csv\", sep=\";\")"
   ]
  },
  {
   "cell_type": "code",
   "execution_count": null,
   "metadata": {},
   "outputs": [],
   "source": [
    "import os\n",
    "\n",
    "from pandas_profiling import ProfileReport\n",
    "\n",
    "# Création des profiles automatiques\n",
    "# Création du dossier `profiles` qui contient les profiles en html\n",
    "os.makedirs(\"profils\", exist_ok=True)\n",
    "\n",
    "print(\"Pour la table client :\")\n",
    "profil_client = ProfileReport(client, title=\"Profil de la table client\")\n",
    "profil_client.to_file(\"profils/profil_client.html\")\n",
    "\n",
    "print(\"Pour la table contrat :\")\n",
    "profil_contrat = ProfileReport(contrat, title=\"Profil de la table contrat\")\n",
    "profil_contrat.to_file(\"profils/profil_contrat.html\")\n",
    "\n",
    "print(\"Pour la table option :\")\n",
    "profil_option = ProfileReport(option, title=\"Profil de la table option\")\n",
    "profil_option.to_file(\"profils/profil_option.html\")"
   ]
  },
  {
   "cell_type": "markdown",
   "metadata": {},
   "source": [
    "### Profil `resiliation_client`"
   ]
  },
  {
   "cell_type": "code",
   "execution_count": null,
   "metadata": {},
   "outputs": [],
   "source": [
    "profil_client.to_notebook_iframe()  # Affiche le profil dans une iframe"
   ]
  },
  {
   "cell_type": "markdown",
   "metadata": {},
   "source": [
    "La table `resiliation_client` contient des données personnelles sur les clients, à savoir leur genre, leur situation familliale (en couple, parent) et une indication sur leur âge. Il y a également une information sur leur ancienneté chez Bouygues Telecom (en mois je suppose).\n",
    "\n",
    "Le profil donne un certain nombre d'informations interessantes :\n",
    "\n",
    "* Il y a un total de 7043 observations et 7043 identifiants de clients différents. L'id_client est donc une clé primaire qui peut être utilisée pour joindre les tables.\n",
    "* L'ancienneté a une distribution assez particulière :\n",
    "  * Avec une forte concentration sur les clients avec une très faible ancienneté, avec 1062 des clients qui ont moins de 3 mois d'ancienneté, soit 15% du nombre total. On note que l'ancienneté diminue assez vite les premiers mois avant de se stabiliser.\n",
    "  * Mais aussi sur les clients très anciens, avec 362 clients qui ont 72 mois d'anciennetés, soit 9% des clients. Il faut noter que 72 mois est le maximum recencé dans le dataset. On peut supposer que 72 correspond aux clients qui ont plus de 72 mois d'ancienneté. Cependant, on voit tout de même que 71 et 70 sont des valeurs très fréquentes.\n",
    "  * Finalement, on peut noter des pics tous les 2 à 3 mois. Il pourrait être interressant de s'y intéresser, pour savoir si c'est notamment dû à des campagnes de marketing ou à des changements de tarifs par exemple.\n",
    "* Il y a un total de 4305 observations manquantes soit 10.2% des données. Ces données manquantes sont réparties entre le genre des clients (où 10% des données sont manquantes) et leur situation parentale (où 51% des données sont manquantes). On peut voir que l'absence de la situation parentale n'implique pas l'absence du genre et inversement, les absences de ces variables ne sont pas corrélées."
   ]
  },
  {
   "cell_type": "markdown",
   "metadata": {},
   "source": [
    "Il peut être intéressant de noter la forte corrélation entre le fait d'être en couple et la situation parentale. En effet, le graphique suivant montre que parmi les clients en couple, la moitié sont parents, alors que parmi les clients qui ne sont pas en couple, la grosse majorité n'est pas parent."
   ]
  },
  {
   "cell_type": "code",
   "execution_count": null,
   "metadata": {},
   "outputs": [],
   "source": [
    "import matplotlib.pyplot as plt\n",
    "import seaborn as sns\n",
    "\n",
    "sns.set_theme(style=\"whitegrid\")\n",
    "%matplotlib inline\n",
    "\n",
    "ax = sns.countplot(\n",
    "    data=client.fillna({\"parent\": \"NaN\"}), x=\"couple\", hue=\"parent\", palette=\"Set2\"\n",
    ")\n",
    "ax.set(\n",
    "    xlabel=\"Couple\",\n",
    "    ylabel=\"Nombre de clients\",\n",
    "    title=\"Relation entre être en couple et être parent\",\n",
    ")\n",
    "ax.legend(title=\"Parent\")\n",
    "plt.show()"
   ]
  },
  {
   "cell_type": "markdown",
   "metadata": {},
   "source": [
    "De même, on voit clairement que les clients les plus anciens sont plus souvent en couple que les nouveaux clients. On peut donc penser que les clients célibataires sont plus enclins à résilier leur abonnement alors que les clients en couples le font moins souvent."
   ]
  },
  {
   "cell_type": "code",
   "execution_count": null,
   "metadata": {},
   "outputs": [],
   "source": [
    "ax = sns.kdeplot(\n",
    "    data=client, x=\"anciennete\", hue=\"couple\", palette=\"Set2\", cut=0, multiple=\"fill\"\n",
    ")\n",
    "ax.set(\n",
    "    xlabel=\"Ancienneté\",\n",
    "    ylabel=\"Pourcentage des clients\",\n",
    "    title=\"Proportion des clients en couple selon l'ancienneté\",\n",
    ")\n",
    "plt.show()"
   ]
  },
  {
   "cell_type": "markdown",
   "metadata": {},
   "source": [
    "### Profil `resiliation_contrat`"
   ]
  },
  {
   "cell_type": "code",
   "execution_count": null,
   "metadata": {},
   "outputs": [],
   "source": [
    "profil_contrat.to_notebook_iframe()  # Affiche le profil dans une iframe"
   ]
  },
  {
   "cell_type": "markdown",
   "metadata": {},
   "source": [
    "La table `resiliation_contrat` contient les données sur les contrats souscrits par les clients, à savoir le forfait, la durée du contrat (mensuel, annuel, biannuel), la méthode de paiement, la facture mensuelle moyenne, la facture totale et surtout si le client a résilé son abonnement ou non. \n",
    "\n",
    "Le profil donne un certain nombre d'informations interessantes :\n",
    "\n",
    "* Comme dans la table sur les clients, l'id_client est une clé primaire. On vérifiera dans la suite que ce sont bien les mêmes clients qui sont présents dans les deux tables.\n",
    "* On peut voir qu'il y a seulement 4 types de forfaits dans cette table, alors que la table sur les forfait en contient 5. Il y en a donc un qui n'est pas utilisé.\n",
    "* Il y a moins d'observations manquantes que dans la table sur les clients, avec 9.7% des forfaits manquants."
   ]
  },
  {
   "cell_type": "code",
   "execution_count": null,
   "metadata": {},
   "outputs": [],
   "source": [
    "# On rajoute l'ancienneté à la table des contrats pour observer des corrélations\n",
    "tmp1 = pd.merge(\n",
    "    client[[\"id_client\", \"anciennete\"]],\n",
    "    contrat[\n",
    "        [\n",
    "            \"id_client\",\n",
    "            \"id_forfait\",\n",
    "            \"facture_mensuelle_moyenne\",\n",
    "            \"contrat\",\n",
    "            \"resiliation\",\n",
    "        ]\n",
    "    ],\n",
    "    on=\"id_client\",\n",
    ")\n",
    "tmp1 = pd.merge(tmp1, forfait, on=\"id_forfait\", how=\"left\")\n",
    "tmp1.head()  # Table provisoire"
   ]
  },
  {
   "cell_type": "markdown",
   "metadata": {},
   "source": [
    "Sur le graphique de gauche, on voit que l'ancienneté des clients a un effet très important sur la résiliation, en effet, les clients anciens ont moins tendance à résilier leur abonnement que les nouveaux clients. \n",
    "\n",
    "Dans un deuxième temps, le graphique de droite montre que, quelque soit le forfait, les clients qui ont résilier avaient une facture mensuelle plus faible que les clients qui n'ont pas résilier. Cela peut être dû à des promotions à durée fixe, et donc, une fois cette durée terminée, les clients ont tendance à résilier leur abonnement. Ce qui est en accordance avec le premier graphique.\n",
    "\n",
    "Ensuite, on peut voir que les données avec le forfait manquant sont très différents des autres en terme de facture mensuelle. En effet, les factures se situent entre le forfait à 20Go et celui à 80Go. On note clairement que la facture mensuelle est très corrélée à la quantité de Go. On peut donc supposer que les forfait manquants correspondent à celui qui n'est pas utilisé et qui contient 50Go. Cette hypothèse sera retenue lors du traitement des valeurs manquantes.\n",
    "\n",
    "Finalement, le dernier graphique montre que les longs contrats sont moins susceptibles d'être résilier que les contrats courts."
   ]
  },
  {
   "cell_type": "code",
   "execution_count": null,
   "metadata": {},
   "outputs": [],
   "source": [
    "fig, (ax1, ax2, ax3) = plt.subplots(1, 3, figsize=(22, 5))\n",
    "sns.kdeplot(\n",
    "    data=tmp1, x=\"anciennete\", hue=\"resiliation\", multiple=\"stack\", ax=ax1, cut=0\n",
    ")\n",
    "ax1.set(\n",
    "    xlabel=\"Ancienneté\",\n",
    "    ylabel=\"Pourcentage des clients qui résilient\",\n",
    "    title=\"Résiliation selon l'ancienneté\",\n",
    ")\n",
    "sns.boxplot(\n",
    "    data=tmp1.fillna({\"go_forfait\": \"NaN\"}),\n",
    "    x=\"go_forfait\",\n",
    "    y=\"facture_mensuelle_moyenne\",\n",
    "    ax=ax2,\n",
    "    hue=\"resiliation\",\n",
    ")\n",
    "ax2.set(\n",
    "    xlabel=\"Forfait\",\n",
    "    ylabel=\"Facture mensuelle moyenne\",\n",
    "    title=\"Facture mensuelle moyenne par forfait\",\n",
    ")\n",
    "sns.countplot(data=tmp1, x=\"contrat\", hue=\"resiliation\", ax=ax3)\n",
    "ax3.set(\n",
    "    xlabel=\"Durée du contrat\",\n",
    "    ylabel=\"Nombre de clients\",\n",
    "    title=\"Résiliation selon la durée du contrat\",\n",
    ")\n",
    "plt.show()"
   ]
  },
  {
   "cell_type": "markdown",
   "metadata": {},
   "source": [
    "### Profil `resiliation_option`"
   ]
  },
  {
   "cell_type": "code",
   "execution_count": null,
   "metadata": {},
   "outputs": [],
   "source": [
    "profil_option.to_notebook_iframe()  # Affiche le profil dans une iframe"
   ]
  },
  {
   "cell_type": "markdown",
   "metadata": {},
   "source": [
    "La table `resiliation_option` contient les données sur les options ajoutées aux forfaits par les clients, notamment des options de téléphonie, de télévision, de sécurité, de support ou de stream.\n",
    "\n",
    "Les seules valeurs manquantes sont dans les options de streaming, qui sont corrélées, en effet, si une des options est manquantes, l'autre l'ait également.\n",
    "\n",
    "On remarque que toutes les options sont très corrélées avec la variable `service_internet`. En effet, si le service internet n'est pas inclu dans le forfait, aucune options ne peut l'être.\n",
    "Cependant, ce ne sont pas des variables redondantes, car il y a tout de même des options choisies par certains clients.\n",
    "\n",
    "On peut faire la même remarque pour l'option téléphonie et les lignes multiples."
   ]
  },
  {
   "cell_type": "code",
   "execution_count": null,
   "metadata": {},
   "outputs": [],
   "source": [
    "fig, axs = plt.subplots(1, 4, figsize=(25, 5), sharey=True)\n",
    "sns.countplot(data=option, x=\"service_internet\", hue=\"option_securite\", ax=axs[0])\n",
    "axs[0].set(\n",
    "    xlabel=\"Service internet\",\n",
    "    ylabel=\"Nombre de clients\",\n",
    "    title=\"Service internet selon l'option de sécurité\",\n",
    ")\n",
    "sns.countplot(data=option, x=\"service_internet\", hue=\"stream_TV\", ax=axs[1])\n",
    "axs[1].set(\n",
    "    xlabel=\"Service internet\",\n",
    "    ylabel=\"Nombre de clients\",\n",
    "    title=\"Service internet selon l'option de stream TV\",\n",
    ")\n",
    "sns.countplot(data=option, x=\"service_internet\", hue=\"protection_terminal\", ax=axs[2])\n",
    "axs[2].set(\n",
    "    xlabel=\"Service internet\",\n",
    "    ylabel=\"Nombre de clients\",\n",
    "    title=\"Service internet selon l'option protection terminal\",\n",
    ")\n",
    "sns.countplot(\n",
    "    data=option, x=\"option_service_telephone\", hue=\"multiple_ligne\", ax=axs[3]\n",
    ")\n",
    "axs[3].set(\n",
    "    xlabel=\"Option service téléphonique\",\n",
    "    ylabel=\"Nombre de clients\",\n",
    "    title=\"Option service téléphonique selon l'option de multiple ligne\",\n",
    ")\n",
    "plt.show()"
   ]
  },
  {
   "cell_type": "markdown",
   "metadata": {},
   "source": [
    "Sur le graphique suivant, on constate encore que les clients avec un forfait manquant sont uniques, en effet, aucun n'ont l'option de service telephonique.\n",
    "Cela renforce l'idée que les forfaits manquants sont dans une catégorie distincte, plutôt que des valeurs manquantes réparties entre les différents forfaits."
   ]
  },
  {
   "cell_type": "code",
   "execution_count": null,
   "metadata": {},
   "outputs": [],
   "source": [
    "tmp2 = pd.merge(\n",
    "    contrat[[\"id_client\", \"id_forfait\", \"facture_mensuelle_moyenne\"]],\n",
    "    option,\n",
    "    on=\"id_client\",\n",
    ")\n",
    "ax = sns.countplot(\n",
    "    data=tmp2.fillna({\"id_forfait\": \"NaN\"}),\n",
    "    x=\"id_forfait\",\n",
    "    hue=\"option_service_telephone\",\n",
    ")\n",
    "ax.set(\n",
    "    xlabel=\"Forfait\",\n",
    "    ylabel=\"Nombre de clients\",\n",
    "    title=\"Nombre de clients par forfait en fonction de l'option de service\",\n",
    ")\n",
    "plt.show()"
   ]
  },
  {
   "cell_type": "markdown",
   "metadata": {},
   "source": [
    "## Préparation de données\n",
    "\n",
    "Dans cette partie, nous allons travailler les données et les préparer pour qu'elles puissent être utilisées dans nos modèles.\n",
    "\n",
    "Nous allons donc traiter le cas des valeurs manquantes, de la transformation des variables catégorielles en variables numériques.\n",
    "\n",
    "Commençons par regrouper les données dans un dataframe nommé `df` en vérifiant que les id_client sont bien identiques."
   ]
  },
  {
   "cell_type": "code",
   "execution_count": null,
   "metadata": {},
   "outputs": [],
   "source": [
    "df = pd.merge(\n",
    "    contrat,\n",
    "    client,\n",
    "    on=\"id_client\",\n",
    "    how=\"outer\",\n",
    "    validate=\"1:1\",\n",
    "    indicator=\"client_contrat\",\n",
    ")\n",
    "df = pd.merge(\n",
    "    df, option, on=\"id_client\", how=\"outer\", validate=\"1:1\", indicator=\"client_option\"\n",
    ")\n",
    "df = pd.merge(\n",
    "    df, forfait, on=\"id_forfait\", how=\"left\", validate=\"m:1\", indicator=\"client_forfait\"\n",
    ")\n",
    "df.head()"
   ]
  },
  {
   "cell_type": "code",
   "execution_count": null,
   "metadata": {},
   "outputs": [],
   "source": [
    "df[\"client_contrat\"].value_counts()"
   ]
  },
  {
   "cell_type": "code",
   "execution_count": null,
   "metadata": {},
   "outputs": [],
   "source": [
    "df[\"client_option\"].value_counts()"
   ]
  },
  {
   "cell_type": "code",
   "execution_count": null,
   "metadata": {},
   "outputs": [],
   "source": [
    "df[\"client_forfait\"].value_counts()"
   ]
  },
  {
   "cell_type": "markdown",
   "metadata": {},
   "source": [
    "On constate donc bien que les id_client sont des clés primaires et que les jointures se sont en *one to one*.\n",
    "\n",
    "Pour les forfaits, comme mentionné précedemment, on voit qu'il y en a qui sont manquants et qu'un forfait n'est pas du tout présent. "
   ]
  },
  {
   "cell_type": "code",
   "execution_count": null,
   "metadata": {},
   "outputs": [],
   "source": [
    "profil_total = ProfileReport(df, title=\"Profil de la dataframe finale\")\n",
    "profil_total.to_file(\"profils/profil_total.html\")"
   ]
  },
  {
   "cell_type": "markdown",
   "metadata": {},
   "source": [
    "### Traitement des valeurs catégorielles\n",
    "\n",
    "Pour commencer, nous allons évoquer les méthodes possibles pour traiter les valeurs catégorielles dans ces données."
   ]
  },
  {
   "cell_type": "code",
   "execution_count": null,
   "metadata": {},
   "outputs": [],
   "source": [
    "df.info()"
   ]
  },
  {
   "cell_type": "code",
   "execution_count": null,
   "metadata": {},
   "outputs": [],
   "source": [
    "# from sklearn.dummy import DummyClassifier\n",
    "# from sklearn.impute import MissingIndicator, SimpleImputer\n",
    "# from sklearn.metrics import balanced_accuracy_score, f1_score\n",
    "# from sklearn.model_selection import train_test_split\n",
    "# from sklearn.pipeline import FeatureUnion, Pipeline, make_pipeline\n",
    "# from sklearn.preprocessing import LabelBinarizer, LabelEncoder, StandardScaler\n",
    "# from sklearn_pandas import DataFrameMapper"
   ]
  },
  {
   "cell_type": "code",
   "execution_count": null,
   "metadata": {},
   "outputs": [],
   "source": [
    "# mapper = DataFrameMapper([(\"resiliation\", LabelEncoder()), ([])])"
   ]
  },
  {
   "cell_type": "code",
   "execution_count": null,
   "metadata": {},
   "outputs": [],
   "source": [
    "# import lightgbm as lgb"
   ]
  },
  {
   "cell_type": "code",
   "execution_count": null,
   "metadata": {},
   "outputs": [],
   "source": [
    "# X, y = df.drop([\"resiliation\"], axis=1), df[\"resiliation\"]\n",
    "# X_train, X_test, y_train, y_test = train_test_split(\n",
    "#     X, y, test_size=0.2, random_state=42\n",
    "# )\n",
    "# enc = LabelEncoder()\n",
    "# train_data = lgb.Dataset(X_train, label=enc.fit_transform(y_train))"
   ]
  }
 ],
 "metadata": {
  "interpreter": {
   "hash": "cc21c02a279bcb22cc3b46a4a7a525cff8d19105de1c6809b0868c3909f71c5f"
  },
  "kernelspec": {
   "display_name": "Python 3.9.9 64-bit ('.venv': poetry)",
   "language": "python",
   "name": "python3"
  },
  "language_info": {
   "codemirror_mode": {
    "name": "ipython",
    "version": 3
   },
   "file_extension": ".py",
   "mimetype": "text/x-python",
   "name": "python",
   "nbconvert_exporter": "python",
   "pygments_lexer": "ipython3",
   "version": "3.9.9"
  }
 },
 "nbformat": 4,
 "nbformat_minor": 2
}
